{
 "cells": [
  {
   "cell_type": "markdown",
   "metadata": {},
   "source": [
    "# Python and R"
   ]
  },
  {
   "cell_type": "code",
   "execution_count": 1,
   "metadata": {},
   "outputs": [],
   "source": [
    "%load_ext rpy2.ipython\n",
    "%load_ext autoreload\n",
    "%autoreload 2\n",
    "\n",
    "%matplotlib inline  \n",
    "from matplotlib import rcParams\n",
    "rcParams['figure.figsize'] = (16, 100)\n",
    "\n",
    "import warnings\n",
    "from rpy2.rinterface import RRuntimeWarning\n",
    "warnings.filterwarnings(\"ignore\") # Ignore all warnings\n",
    "# warnings.filterwarnings(\"ignore\", category=RRuntimeWarning) # Show some warnings\n",
    "\n",
    "import pandas as pd\n",
    "import numpy as np\n",
    "import matplotlib.pyplot as plt\n",
    "from IPython.display import display, HTML"
   ]
  },
  {
   "cell_type": "code",
   "execution_count": 2,
   "metadata": {},
   "outputs": [
    {
     "data": {
      "application/javascript": [
       "// Disable auto-scrolling\n",
       "IPython.OutputArea.prototype._should_scroll = function(lines) {\n",
       "    return false;\n",
       "}\n"
      ],
      "text/plain": [
       "<IPython.core.display.Javascript object>"
      ]
     },
     "metadata": {},
     "output_type": "display_data"
    }
   ],
   "source": [
    "%%javascript\n",
    "// Disable auto-scrolling\n",
    "IPython.OutputArea.prototype._should_scroll = function(lines) {\n",
    "    return false;\n",
    "}"
   ]
  },
  {
   "cell_type": "code",
   "execution_count": 3,
   "metadata": {},
   "outputs": [
    {
     "name": "stderr",
     "output_type": "stream",
     "text": [
      "R[write to console]: Loading required package: tidyverse\n",
      "\n"
     ]
    },
    {
     "name": "stdout",
     "output_type": "stream",
     "text": [
      "── Attaching packages ─────────────────────────────────────── tidyverse 1.3.2 ──\n",
      "✔ ggplot2 3.4.0      ✔ purrr   0.3.5 \n",
      "✔ tibble  3.1.8      ✔ dplyr   1.0.10\n",
      "✔ tidyr   1.2.1      ✔ stringr 1.4.1 \n",
      "✔ readr   2.1.3      ✔ forcats 0.5.2 \n",
      "── Conflicts ────────────────────────────────────────── tidyverse_conflicts() ──\n",
      "✖ dplyr::filter() masks stats::filter()\n",
      "✖ dplyr::lag()    masks stats::lag()\n"
     ]
    }
   ],
   "source": [
    "%%R\n",
    "\n",
    "# My commonly used R imports\n",
    "\n",
    "require('tidyverse')\n"
   ]
  },
  {
   "cell_type": "markdown",
   "metadata": {},
   "source": [
    "\n",
    "# The Data\n",
    "\n",
    "For this repository, we'll be working with FiveThirtyEight's Pollster Ratings database. First, watch these primer videos that will help you better understand public opinion polling, and the pollster ratings data in particular:\n",
    "\n",
    "- https://www.youtube.com/watch?v=TambSayfCOE\n",
    "- https://www.youtube.com/watch?v=fzzX9jHDK4k\n",
    "\n",
    "While FiveThirtyEight publishes [pollster ratings](https://projects.fivethirtyeight.com/pollster-ratings/), I ask that you do not consult those as you do this assignment. I also ask that you not do outside reading about the reputation of individual pollsters. This assignment is an exercise in discovering insights about this dataset. When we debrief, we will look into the kinds of insights that journalists have been able to produce and see.\n",
    "\n",
    "I have pulled the underlying data into a file called `raw-polls.csv` which you will find in this repository. It contain polls from the final 21 days of Presidential, Senate, and Gubernatorial elections. \n",
    "\n",
    "Let's start by looking at presidential elections only:"
   ]
  },
  {
   "cell_type": "code",
   "execution_count": 6,
   "metadata": {},
   "outputs": [],
   "source": [
    "# EXAMPLE PYTHON CELL\n",
    "df = pd.read_csv('raw-polls.csv')\\\n",
    "    .query(\"type_simple=='Pres-G'\")"
   ]
  },
  {
   "cell_type": "markdown",
   "metadata": {},
   "source": [
    "You can find documentation about the meanings of these columns here: \n",
    "https://github.com/fivethirtyeight/data/tree/master/pollster-ratings\n",
    "\n",
    "Please note that I have strategically removed some columns, so you won't find all of the columns in the original datasest here in this assignment.\n",
    "\n",
    "Here is how we can load that same data in R and filter down to just presidential polls (just as we did above in Python)."
   ]
  },
  {
   "cell_type": "code",
   "execution_count": 8,
   "metadata": {},
   "outputs": [
    {
     "name": "stdout",
     "output_type": "stream",
     "text": [
      "Rows: 10776 Columns: 31\n",
      "── Column specification ────────────────────────────────────────────────────────\n",
      "Delimiter: \",\"\n",
      "chr (14): race, location, type_simple, type_detail, pollster, methodology, p...\n",
      "dbl (17): poll_id, question_id, race_id, year, pollster_rating_id, samplesiz...\n",
      "\n",
      "ℹ Use `spec()` to retrieve the full column specification for this data.\n",
      "ℹ Specify the column types or set `show_col_types = FALSE` to quiet this message.\n",
      "# A tibble: 2,940 × 31\n",
      "   poll_id questio…¹ race_id  year race  locat…² type_…³ type_…⁴ polls…⁵ polls…⁶\n",
      "     <dbl>     <dbl>   <dbl> <dbl> <chr> <chr>   <chr>   <chr>   <chr>     <dbl>\n",
      " 1    6478      7947      40  2000 2000… US      Pres-G  Pres-G  Zogby …     395\n",
      " 2    6483      7952     815  2000 2000… FL      Pres-G  Pres-G  McLaug…     203\n",
      " 3    6470      7939     820  2000 2000… IL      Pres-G  Pres-G  KRC Re…     160\n",
      " 4    6473      7942     820  2000 2000… IL      Pres-G  Pres-G  Resear…     281\n",
      " 5    6474      7943     836  2000 2000… NH      Pres-G  Pres-G  Resear…     281\n",
      " 6    6472      7941     844  2000 2000… PA      Pres-G  Pres-G  Lincol…     170\n",
      " 7    6459    123272      40  2000 2000… US      Pres-G  Pres-G  NBC Ne…     221\n",
      " 8   63601    117065      40  2000 2000… US      Pres-G  Pres-G  Rasmus…     277\n",
      " 9    6479      7948     807  2000 2000… AL      Pres-G  Pres-G  Univer…     361\n",
      "10   25719      7940     828  2000 2000… MI      Pres-G  Pres-G  EPIC-M…      84\n",
      "# … with 2,930 more rows, 21 more variables: methodology <chr>, partisan <chr>,\n",
      "#   polldate <chr>, samplesize <dbl>, cand1_name <chr>, cand1_id <dbl>,\n",
      "#   cand1_party <chr>, cand1_pct <dbl>, cand2_name <chr>, cand2_id <dbl>,\n",
      "#   cand2_party <chr>, cand2_pct <dbl>, cand3_pct <dbl>, margin_poll <dbl>,\n",
      "#   electiondate <chr>, cand1_actual <dbl>, cand2_actual <dbl>,\n",
      "#   margin_actual <dbl>, bias <dbl>, rightcall <dbl>, comment <chr>, and\n",
      "#   abbreviated variable names ¹​question_id, ²​location, ³​type_simple, …\n",
      "# ℹ Use `print(n = ...)` to see more rows, and `colnames()` to see all variable names\n"
     ]
    }
   ],
   "source": [
    "%%R\n",
    "\n",
    "# EXAMPLE R CELL\n",
    "df <- read_csv('raw-polls.csv') %>% \n",
    "    filter(type_simple=='Pres-G')\n",
    "\n",
    "df"
   ]
  },
  {
   "cell_type": "markdown",
   "metadata": {},
   "source": [
    "Before we dive into exploratory data viz, make sure you understand what all the columns in the spreadsheet are. There is a data dictionary on FiveThirtyEight’s GitHub page for this dataset that you can reference. If there is something you don’t understand, try asking your classmates in the #algorithms23 Slack channel.\n",
    "\n",
    "Answer the questions below about the limitations and possibilities of what you can and cannot learn using this dataset."
   ]
  },
  {
   "cell_type": "markdown",
   "metadata": {},
   "source": [
    "## 👉 Possibilties and Limitations\n",
    "\n",
    "_Whenever you see the 👉 icon, that means you need to write an answer._\n",
    "\n",
    "👉 Questions about the accuracy of election polling in the U.S. that this dataset should allow me to answer (answer in bullet points below):\n",
    "- Which pollster to trust based on its past performance - whether it was close to the actual results\n",
    "- Whether the pollster has a partisan bias based on 'bias' and 'comment' (e.g. for an unspecific Republican sponsor)\n",
    "- What the sample size of the poll was. The more the people, the more accurate it should be. \n"
   ]
  },
  {
   "cell_type": "markdown",
   "metadata": {},
   "source": [
    "👉 Questions about the accuracy of election polling in the U.S. that I won’t be able to answer with this dataset alone (answer in bullet points below):\n",
    "\n",
    "- Who the pollsters interviewed (i.e. who is part of their sample? Since like the video said it could be only educated voters. Or ethnicity and gender could play a big part today too)\n",
    "- How many of the sample were undecided voters (is this important to know?)\n",
    "- What kinds of questions were asked that made the pollster decide the voter was going to vote Dem or Rep.\n",
    "- What is a 'good' and 'bad' margin of error/bias"
   ]
  },
  {
   "cell_type": "markdown",
   "metadata": {},
   "source": [
    "👉 Questions I have about this dataset. What don't you know about it that you'd like to in order to responsibly use this data to report on elections?\n",
    "- Similar to above: Who the pollsters interviewed and how many of them were undecided"
   ]
  },
  {
   "cell_type": "code",
   "execution_count": null,
   "metadata": {},
   "outputs": [],
   "source": []
  }
 ],
 "metadata": {
  "kernelspec": {
   "display_name": "Python 3 (ipykernel)",
   "language": "python",
   "name": "python3"
  },
  "language_info": {
   "codemirror_mode": {
    "name": "ipython",
    "version": 3
   },
   "file_extension": ".py",
   "mimetype": "text/x-python",
   "name": "python",
   "nbconvert_exporter": "python",
   "pygments_lexer": "ipython3",
   "version": "3.11.0rc2"
  },
  "vscode": {
   "interpreter": {
    "hash": "34166945ca6cc351f9d38b360afe1a928411c84fd696a9e2d08d61ef3f7e4692"
   }
  }
 },
 "nbformat": 4,
 "nbformat_minor": 2
}
